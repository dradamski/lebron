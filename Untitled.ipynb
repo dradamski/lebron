{
 "cells": [
  {
   "cell_type": "code",
   "execution_count": 100,
   "metadata": {
    "collapsed": false
   },
   "outputs": [],
   "source": [
    "import csv\n",
    "import matplotlib.pyplot as plt\n",
    "#  GETS LIST OF PLAYERS WITH \"LEBRONS\" AND ORDERS THEM\n",
    "players = {}\n",
    "position = {}\n",
    "heights = {}\n",
    "years = {}\n",
    "lebrons = []\n",
    "with open('lebrongames.csv', newline = '') as csvfile:\n",
    "    reader = csv.reader(csvfile)\n",
    "    \n",
    "# ['Rk', 'Player', 'Age', 'Pos', 'Date', 'Tm', '', 'Opp', '',\n",
    "#  'GS', 'MP', 'FG', 'FGA', 'FG%', '2P', '2PA', '2P%', '3P', \n",
    "#  '3PA', '3P%', 'FT', 'FTA', 'FT%', 'ORB', 'DRB', 'TRB', 'AST',\n",
    "#  'STL', 'BLK', 'TOV', 'PF', 'PTS', 'GmSc']\n",
    "    for row in reader:\n",
    "        lebrons.append(row)\n",
    "        if row[3] not in position.keys():\n",
    "            position[row[3]] = 1\n",
    "        else:\n",
    "            position[row[3]] += 1\n",
    "        \n",
    "        date = row[4][:4]\n",
    "        if date not in years.keys():\n",
    "            years[date] = 1\n",
    "        else:\n",
    "            years[date] += 1\n",
    "        \n",
    "        name = row[1].split('\\\\')[0]\n",
    "        if name not in players.keys():\n",
    "            players[name] = 1\n",
    "        else:\n",
    "            players[name] += 1\n",
    "        \n",
    "        \n",
    "    del(years['Date'])\n",
    "    del(players['Player'])\n",
    "    del(position['Pos'])\n",
    "   \n",
    "    \n",
    "#   CREATES HISTOGRAM SHOWING NUMBER OF PLAYERS WITH A CERTAIN AMOUNT OF LEBRONS    \n",
    "    hist = []\n",
    "    for p in players:\n",
    "        hist.append(int(players[p]))\n",
    "    \n",
    "    #plt.hist(hist, bins=20)\n",
    "    #plt.title('\"Amount of players with Lebrons\"')\n",
    "    #plt.show()\n",
    "#plt.scatter(\n",
    "\n",
    "\n"
   ]
  },
  {
   "cell_type": "code",
   "execution_count": 108,
   "metadata": {
    "collapsed": true
   },
   "outputs": [],
   "source": [
    "import pandas as pd\n",
    "lebron_df= pd.DataFrame.from_csv('lebrongames.csv')\n",
    "avg_df = pd.DataFrame.from_csv('teams.csv')"
   ]
  },
  {
   "cell_type": "code",
   "execution_count": 161,
   "metadata": {
    "collapsed": false,
    "scrolled": false
   },
   "outputs": [],
   "source": [
    "%matplotlib inline"
   ]
  },
  {
   "cell_type": "code",
   "execution_count": null,
   "metadata": {
    "collapsed": false
   },
   "outputs": [],
   "source": []
  },
  {
   "cell_type": "code",
   "execution_count": 163,
   "metadata": {
    "collapsed": false
   },
   "outputs": [],
   "source": [
    "players = {}\n",
    "position = {}\n",
    "years = {}\n",
    "for i, row in lebron_df.iterrows():\n",
    "    name = row['Player'].split('\\\\')[0]\n",
    "    year = row['Date'][:4]\n",
    "    pos = row['Pos']\n",
    "    if pos not in position.keys():\n",
    "        position[pos] = 1\n",
    "    else:\n",
    "        position[pos] += 1\n",
    "\n",
    "   \n",
    "    if year not in years.keys():\n",
    "        years[year] = 1\n",
    "    else:\n",
    "        years[year] += 1\n",
    "\n",
    "    if name not in players.keys():\n",
    "        players[name] = 1\n",
    "    else:\n",
    "        players[name] += 1"
   ]
  },
  {
   "cell_type": "code",
   "execution_count": 164,
   "metadata": {
    "collapsed": false
   },
   "outputs": [
    {
     "data": {
      "text/plain": [
       "[<matplotlib.lines.Line2D at 0x1ace3a37630>]"
      ]
     },
     "execution_count": 164,
     "metadata": {},
     "output_type": "execute_result"
    },
    {
     "data": {
      "image/png": "[encoded data removed]",
      "text/plain": [
       "<matplotlib.figure.Figure at 0x1ace25bf0b8>"
      ]
     },
     "metadata": {},
     "output_type": "display_data"
    }
   ],
   "source": [
    "\n"
   ]
  },
  {
   "cell_type": "code",
   "execution_count": null,
   "metadata": {
    "collapsed": false
   },
   "outputs": [],
   "source": []
  },
  {
   "cell_type": "code",
   "execution_count": null,
   "metadata": {
    "collapsed": false
   },
   "outputs": [],
   "source": [
    "\n"
   ]
  },
  {
   "cell_type": "code",
   "execution_count": null,
   "metadata": {
    "collapsed": false
   },
   "outputs": [],
   "source": []
  },
  {
   "cell_type": "code",
   "execution_count": null,
   "metadata": {
    "collapsed": false
   },
   "outputs": [],
   "source": [
    "\n"
   ]
  },
  {
   "cell_type": "code",
   "execution_count": null,
   "metadata": {
    "collapsed": false
   },
   "outputs": [],
   "source": []
  },
  {
   "cell_type": "code",
   "execution_count": null,
   "metadata": {
    "collapsed": false
   },
   "outputs": [],
   "source": []
  },
  {
   "cell_type": "code",
   "execution_count": null,
   "metadata": {
    "collapsed": true
   },
   "outputs": [],
   "source": []
  },
  {
   "cell_type": "code",
   "execution_count": null,
   "metadata": {
    "collapsed": true
   },
   "outputs": [],
   "source": []
  }
 ],
 "metadata": {
  "kernelspec": {
   "display_name": "Python 3",
   "language": "python",
   "name": "python3"
  },
  "language_info": {
   "codemirror_mode": {
    "name": "ipython",
    "version": 3
   },
   "file_extension": ".py",
   "mimetype": "text/x-python",
   "name": "python",
   "nbconvert_exporter": "python",
   "pygments_lexer": "ipython3",
   "version": "3.6.0"
  }
 },
 "nbformat": 4,
 "nbformat_minor": 2
}
